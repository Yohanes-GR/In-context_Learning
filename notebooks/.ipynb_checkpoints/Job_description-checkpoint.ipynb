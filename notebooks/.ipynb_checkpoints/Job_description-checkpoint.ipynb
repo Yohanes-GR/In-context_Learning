{
 "cells": [
  {
   "cell_type": "code",
   "execution_count": 2,
   "metadata": {},
   "outputs": [],
   "source": [
    "import cohere\n",
    "import pandas as pd\n",
    "import requests\n",
    "import datetime\n",
    "from tqdm import tqdm\n",
    "pd.set_option('display.max_colwidth', None)\n",
    "\n",
    "def get_post_titles(**kwargs):\n",
    "    \"\"\" Gets data from the pushshift api. Read more: https://github.com/pushshift/api \"\"\"\n",
    "    base_url = f\"https://api.pushshift.io/reddit/search/submission/\"\n",
    "    payload = kwargs\n",
    "    request = requests.get(base_url, params=payload)\n",
    "    return [a['title'] for a in request.json()['data']]"
   ]
  },
  {
   "cell_type": "code",
   "execution_count": null,
   "metadata": {},
   "outputs": [],
   "source": []
  }
 ],
 "metadata": {
  "kernelspec": {
   "display_name": "Python 3 (ipykernel)",
   "language": "python",
   "name": "python3"
  },
  "language_info": {
   "codemirror_mode": {
    "name": "ipython",
    "version": 3
   },
   "file_extension": ".py",
   "mimetype": "text/x-python",
   "name": "python",
   "nbconvert_exporter": "python",
   "pygments_lexer": "ipython3",
   "version": "3.9.12"
  },
  "vscode": {
   "interpreter": {
    "hash": "66bca563c4c76296b191bb3bb7e4d5f9a7ce2df3aa834d2ca323fb8450d58729"
   }
  }
 },
 "nbformat": 4,
 "nbformat_minor": 2
}
