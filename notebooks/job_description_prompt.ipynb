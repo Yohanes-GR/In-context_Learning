{
 "cells": [
  {
   "cell_type": "markdown",
   "metadata": {},
   "source": [
    "#### Import Modlues"
   ]
  },
  {
   "cell_type": "code",
   "execution_count": 1,
   "metadata": {},
   "outputs": [],
   "source": [
    "import sys, os\n",
    "import cohere\n",
    "from dotenv import load_dotenv\n",
    "sys.path.append(os.path.abspath(os.path.join('../scripts')))\n",
    "from read_write_util import ReadWriteUtil\n",
    "from prompt_pipeline import PromptPipeline"
   ]
  },
  {
   "cell_type": "markdown",
   "metadata": {},
   "source": [
    "#### Read Cleaned Data"
   ]
  },
  {
   "cell_type": "code",
   "execution_count": 2,
   "metadata": {},
   "outputs": [],
   "source": [
    "reader = ReadWriteUtil()\n",
    "API_KEY = os.getenv('API_KEY')\n",
    "# print(API_KEY)\n",
    "#Initialize reader and API_KEY"
   ]
  },
  {
   "cell_type": "code",
   "execution_count": 3,
   "metadata": {},
   "outputs": [
    {
     "name": "stderr",
     "output_type": "stream",
     "text": [
      "2022-09-14 18:37:19,602:logger:../data/job_description_train_cleaned.json with version jdtrain_v1_cleaned Loaded\n"
     ]
    },
    {
     "data": {
      "text/plain": [
       "{'document': \"Bachelor's degree in Mechanical Engineering or Physical Science 3+ years track record of developing or specifying fiber optic cables and connector related products Knowledge of fiber optic component, cabling, and interconnect products, technologies, and standards Experience in statistical data analysis Experience with product life cycle management (PLM) process Experience providing solutions to problems and meeting deadlines Experience engaging stakeholders PREFERRED Advanced degree Experience using a software tool for statistical data analysis such as JMP Experience using Agile as product life-cycle management tool Data center or other mission critical development experience\",\n",
       " 'tokens': [{'text': 'Bachelor', 'entityLabel': 'DIPLOMA'},\n",
       "  {'text': 'Mechanical Engineering', 'entityLabel': 'DIPLOMA_MAJOR'},\n",
       "  {'text': 'Physical Science', 'entityLabel': 'DIPLOMA_MAJOR'},\n",
       "  {'text': '3+ years', 'entityLabel': 'EXPERIENCE'},\n",
       "  {'text': 'developing', 'entityLabel': 'SKILLS'},\n",
       "  {'text': 'fiber optic cables', 'entityLabel': 'SKILLS'},\n",
       "  {'text': 'connector related products', 'entityLabel': 'SKILLS'}]}"
      ]
     },
     "execution_count": 3,
     "metadata": {},
     "output_type": "execute_result"
    }
   ],
   "source": [
    "train_data =  reader.dvc_get_data('../data/job_description_train_cleaned.json', 'jdtrain_v1_cleaned')\n",
    "train_data[0]"
   ]
  },
  {
   "cell_type": "code",
   "execution_count": 4,
   "metadata": {},
   "outputs": [
    {
     "name": "stderr",
     "output_type": "stream",
     "text": [
      "2022-09-14 18:37:19,665:logger:../data/job_description_test_cleaned.json with version jdtest_v1_cleaned Loaded\n"
     ]
    },
    {
     "data": {
      "text/plain": [
       "{'document': '\\nCurrently holding a faculty, industry, or government researcher position.\\nPh.D. and publications in machine learning, AI, computer science, statistics, applied mathematics, data science, or related technical fields.\\nExperience leading a team in solving analytical problems using quantitative approaches.\\nExperience manipulating and analyzing data from different sources.\\nExperience in theoretical and empirical research and for answering questions with research.\\nAbility to communicate research for public audiences of peers.\\nKnowledge in a programming language.\\nAbility to obtain and maintain work authorization in the country of employment in 2018.\\n\\nPREFERRED \\n1+ year(s) of work experience in a university, industry, or government lab(s), in a role with primary emphasis on AI research.\\nExperience driving original scholarship in collaboration with a team.\\nFirst-author publications at peer-reviewed AI conferences (e.g. NIPS, CVPR, ICML, ICLR, ICCV, and ACL).\\nExperience in developing and debugging in C/C++, Python, C# and/or Java.',\n",
       " 'tokens': [{'text': 'Ph.D.', 'entityLabel': 'DIPLOMA'},\n",
       "  {'text': 'machine learning', 'entityLabel': 'DIPLOMA_MAJOR'},\n",
       "  {'text': 'AI', 'entityLabel': 'DIPLOMA_MAJOR'},\n",
       "  {'text': 'computer science', 'entityLabel': 'DIPLOMA_MAJOR'},\n",
       "  {'text': 'statistics', 'entityLabel': 'DIPLOMA_MAJOR'},\n",
       "  {'text': 'applied mathematics', 'entityLabel': 'DIPLOMA_MAJOR'},\n",
       "  {'text': 'data science', 'entityLabel': 'DIPLOMA_MAJOR'},\n",
       "  {'text': '1+ year(s', 'entityLabel': 'EXPERIENCE'},\n",
       "  {'text': 'university', 'entityLabel': 'SKILLS'},\n",
       "  {'text': 'industry', 'entityLabel': 'SKILLS'},\n",
       "  {'text': 'government lab(s)', 'entityLabel': 'SKILLS'},\n",
       "  {'text': 'AI', 'entityLabel': 'SKILLS'}]}"
      ]
     },
     "execution_count": 4,
     "metadata": {},
     "output_type": "execute_result"
    }
   ],
   "source": [
    "test_data = reader.dvc_get_data('../data/job_description_test_cleaned.json', 'jdtest_v1_cleaned')\n",
    "test_data[0]"
   ]
  },
  {
   "cell_type": "markdown",
   "metadata": {},
   "source": [
    "### Try Different Prompt Techniques"
   ]
  },
  {
   "cell_type": "markdown",
   "metadata": {},
   "source": [
    "`We are going to use cohere to extract entities from the job description, we are going to use different techniques to come up with an effective and dynamic prompt`"
   ]
  },
  {
   "cell_type": "markdown",
   "metadata": {},
   "source": [
    "#### Initialize our Cohere Client"
   ]
  },
  {
   "cell_type": "code",
   "execution_count": 5,
   "metadata": {},
   "outputs": [],
   "source": [
    "co = cohere.Client(API_KEY)"
   ]
  },
  {
   "cell_type": "markdown",
   "metadata": {},
   "source": [
    "#### Technique 1: Choosing the first 5 in our training json as a prompt to be used by cohere's LLM Generate"
   ]
  },
  {
   "cell_type": "code",
   "execution_count": 71,
   "metadata": {},
   "outputs": [
    {
     "data": {
      "text/plain": [
       "[{'document': \"Bachelor's degree in Mechanical Engineering or Physical Science 3+ years track record of developing or specifying fiber optic cables and connector related products Knowledge of fiber optic component, cabling, and interconnect products, technologies, and standards Experience in statistical data analysis Experience with product life cycle management (PLM) process Experience providing solutions to problems and meeting deadlines Experience engaging stakeholders PREFERRED Advanced degree Experience using a software tool for statistical data analysis such as JMP Experience using Agile as product life-cycle management tool Data center or other mission critical development experience\",\n",
       "  'tokens': [{'text': 'Bachelor', 'entityLabel': 'DIPLOMA'},\n",
       "   {'text': 'Mechanical Engineering', 'entityLabel': 'DIPLOMA_MAJOR'},\n",
       "   {'text': 'Physical Science', 'entityLabel': 'DIPLOMA_MAJOR'},\n",
       "   {'text': '3+ years', 'entityLabel': 'EXPERIENCE'},\n",
       "   {'text': 'developing', 'entityLabel': 'SKILLS'},\n",
       "   {'text': 'fiber optic cables', 'entityLabel': 'SKILLS'},\n",
       "   {'text': 'connector related products', 'entityLabel': 'SKILLS'}]},\n",
       " {'document': '10+ years of software engineering work experience. Technical experience in release automation engineering, CI/CD or related roles. Experience building and leading a software organization through product design, delivery and commercialization of consumer electronics devices. Experience recruiting and managing technical teams, including performance management. BS/MS in Computer Science. Experience in leading timeline, multi-partner initiatives. Organizational communication and coordination experience. PREFERRED 5+ years of experience with hands-on technical management, release engineering, tools engineering, DevOps, or related area.',\n",
       "  'tokens': [{'text': '10+ years', 'entityLabel': 'EXPERIENCE'},\n",
       "   {'text': 'software engineering', 'entityLabel': 'SKILLS'},\n",
       "   {'text': '5+ years', 'entityLabel': 'EXPERIENCE'},\n",
       "   {'text': 'technical management', 'entityLabel': 'SKILLS'},\n",
       "   {'text': 'release engineering', 'entityLabel': 'SKILLS'},\n",
       "   {'text': 'tools engineering', 'entityLabel': 'SKILLS'},\n",
       "   {'text': 'DevOps', 'entityLabel': 'SKILLS'},\n",
       "   {'text': 'BS/MS', 'entityLabel': 'DIPLOMA'},\n",
       "   {'text': 'Computer Science', 'entityLabel': 'DIPLOMA_MAJOR'}]}]"
      ]
     },
     "execution_count": 71,
     "metadata": {},
     "output_type": "execute_result"
    }
   ],
   "source": [
    "tech1_train_data = train_data[:2]\n",
    "tech1_train_data\n",
    "#Picking the first two arrays from our json"
   ]
  },
  {
   "cell_type": "markdown",
   "metadata": {},
   "source": [
    "#### Extract Values from json"
   ]
  },
  {
   "cell_type": "code",
   "execution_count": 22,
   "metadata": {},
   "outputs": [],
   "source": [
    "propmt_pipeline = PromptPipeline()"
   ]
  },
  {
   "cell_type": "markdown",
   "metadata": {},
   "source": [
    "`Lets use each of our pipeline function for this experiment`"
   ]
  },
  {
   "cell_type": "code",
   "execution_count": 72,
   "metadata": {},
   "outputs": [
    {
     "name": "stderr",
     "output_type": "stream",
     "text": [
      "2022-09-14 20:09:21,293:logger:Values extracted.\n"
     ]
    }
   ],
   "source": [
    "val = propmt_pipeline.extract_values(tech1_train_data)\n",
    "#The first thing is to extract all the data from our json"
   ]
  },
  {
   "cell_type": "code",
   "execution_count": 61,
   "metadata": {},
   "outputs": [
    {
     "data": {
      "text/plain": [
       "{'document': '\\nPh.D. with 5+ years of experience, MS with 7+ years of experience, or BS with 10+ years of experience in Physics, Electrical Engineering, Computer Science, or a related technical field such us architecting, developing, and launching hardware/software projects and/or services\\nDemonstrated knowledge dissemination through authored publications, international conference presentations or shipped products\\nML/AI basics, and systems basics, including the requisite programming experience (python or equivalent, and at least one systems-level programming language: C, C++, Java, Go, Rust, or equivalent)\\nExperience with data analytics  (data collection, storage, cleaning, processing with statistics, visualization, and other data related processes)\\nExperience working on communication systems in a research and/or development capacity\\nTechnical leadership in leading research efforts with a demonstrated experience handling multiple priorities\\n\\nPREFERRED \\nDeep understanding of how culture and team dynamics create exceptional teams',\n",
       " 'tokens': []}"
      ]
     },
     "execution_count": 61,
     "metadata": {},
     "output_type": "execute_result"
    }
   ],
   "source": [
    "tech1_test_data = test_data[6]\n",
    "tech1_test_data\n",
    "#Second pick job description from our test data lets pick the 2nd element"
   ]
  },
  {
   "cell_type": "code",
   "execution_count": 30,
   "metadata": {},
   "outputs": [
    {
     "name": "stderr",
     "output_type": "stream",
     "text": [
      "2022-09-14 18:56:15,305:logger:Tokens converted to Dict\n"
     ]
    },
    {
     "data": {
      "text/plain": [
       "{'DIPLOMA': 'Ph.D.', 'DIPLOMA_MAJOR': 'Computer Science'}"
      ]
     },
     "execution_count": 30,
     "metadata": {},
     "output_type": "execute_result"
    }
   ],
   "source": [
    "test_token_dict = propmt_pipeline.get_tokens(tech1_test_data)\n",
    "test_token_dict\n",
    "#Get all the tokens in dict format from our test data"
   ]
  },
  {
   "cell_type": "code",
   "execution_count": 34,
   "metadata": {},
   "outputs": [
    {
     "data": {
      "text/plain": [
       "\"Job Description: Bachelor's degree in Mechanical Engineering or Physical Science 3+ years track record of developing or specifying fiber optic cables and connector related products Knowledge of fiber optic component, cabling, and interconnect products, technologies, and standards Experience in statistical data analysis Experience with product life cycle management (PLM) process Experience providing solutions to problems and meeting deadlines Experience engaging stakeholders PREFERRED Advanced degree Experience using a software tool for statistical data analysis such as JMP Experience using Agile as product life-cycle management tool Data center or other mission critical development experience\\nDIPLOMA: Bachelor\\nDIPLOMA_MAJOR: Mechanical Engineering,Physical Science\\nEXPERIENCE: 3+ years\\nSKILLS: developing,fiber optic cables,connector related products\\n\\n--\\nJob Description: 10+ years of software engineering work experience. Technical experience in release automation engineering, CI/CD or related roles. Experience building and leading a software organization through product design, delivery and commercialization of consumer electronics devices. Experience recruiting and managing technical teams, including performance management. BS/MS in Computer Science. Experience in leading timeline, multi-partner initiatives. Organizational communication and coordination experience. PREFERRED 5+ years of experience with hands-on technical management, release engineering, tools engineering, DevOps, or related area.\\nEXPERIENCE: 10+ years,5+ years\\nSKILLS: software engineering,technical management,release engineering,tools engineering,DevOps\\nDIPLOMA: BS/MS\\nDIPLOMA_MAJOR: Computer Science\\n\\n--\\nJob Description: 3+ years Swift & Objective-C and experience with iOS internals Experience building an entire app from scratch and ideally a portfolio of apps featured in the App Store Someone who knows every trick in the book on UI transitions, network communication and memory/battery efficiency Strong UI/design skill experience is a plus\\nEXPERIENCE: 3+ years\\nSKILLS: Swift & Objective-C\\n\\n--\\nJob Description: 8+ years experience in software engineering leadership 5+ years people management experience including managing leaders and managing remotely across regions Strategic thinker with proven track record of transforming operations to provide customer experience through innovation and improvement Track record of working with VP, C-level Executives Experience deploying operational support models across enterprise organizations Communication/presentations experience Experience working with all levels of management internally and externally Experience meeting objectives in an entrepreneurial environment Collaboration and relationship-building experience BA/BS degree or higher\\nEXPERIENCE: 8+ years,5+ years\\nSKILLS: software engineering,people management,managing leaders\\n\\n--\\nJob Description: BS degree in Computer Science or related field. 7+ years C++ experience, including C++11 features and principles. 5+ years experience creating software for real-time environments such as games or robotics. 2+ years experience managing software engineers. Proven track record of software development, including shipping one or more products on large code bases that span platforms and tools. Problem solving and optimization experience. Communication experience and demonstrated experience working across disciplines and teams to drive solutions. PREFERRED Hands-on experience with 3D computer vision algorithms including Calibration, SLAM, Reconstruction, Mapping, Localization, Sensor Fusion, State Estimation and Image Processing Experience with designing (products or open-source/git software) of inertial/optical sensing devices Publication in leading workshops or conferences such as CVPR, ECCV, ICCV, SIGGRAPH, ICCP, RSS, ICRA, etc.\\nDIPLOMA: BS\\nDIPLOMA_MAJOR: Computer Science\\nEXPERIENCE: 7+ years,5+ years,2+ years\\nSKILLS: C++,C++11,creating software for real-time environments,games,robotics,managing software engineers\\n\\n--\\n Job Description: 10+ years of software engineering work experience. Technical experience in release automation engineering, CI/CD or related roles. Experience building and leading a software organization through product design, delivery and commercialization of consumer electronics devices. Experience recruiting and managing technical teams, including performance management. BS/MS in Computer Science. Experience in leading timeline, multi-partner initiatives. Organizational communication and coordination experience. PREFERRED 5+ years of experience with hands-on technical management, release engineering, tools engineering, DevOps, or related area.\""
      ]
     },
     "execution_count": 34,
     "metadata": {},
     "output_type": "execute_result"
    }
   ],
   "source": [
    "prompt = f\"{val} Job Description: {train_data[1]['document'].strip()}\"\n",
    "prompt\n",
    "#Append our test text to our prompt "
   ]
  },
  {
   "cell_type": "code",
   "execution_count": 41,
   "metadata": {},
   "outputs": [
    {
     "name": "stderr",
     "output_type": "stream",
     "text": [
      "2022-09-14 19:12:01,122:logger:Rquest successful\n"
     ]
    },
    {
     "data": {
      "text/plain": [
       "'\\nEXPERIENCE: 10+ years,5+ years\\nSKILLS: software engineering,technical management,release engineering,tools engineering,DevOps\\nDIPLOMA: BS/MS\\nDIPLOMA_MAJOR: Computer Science\\n\\n--'"
      ]
     },
     "execution_count": 41,
     "metadata": {},
     "output_type": "execute_result"
    }
   ],
   "source": [
    "response = propmt_pipeline.send_request_to_cohere(co, prompt)\n",
    "response\n",
    "#Send our request to cohere API"
   ]
  },
  {
   "cell_type": "code",
   "execution_count": 42,
   "metadata": {},
   "outputs": [
    {
     "data": {
      "text/plain": [
       "{'EXPERIENCE': ' 10+ years,5+ years',\n",
       " 'SKILLS': ' software engineering,technical management,release engineering,tools engineering,DevOps',\n",
       " 'DIPLOMA': ' BS/MS',\n",
       " 'DIPLOMA_MAJOR': ' Computer Science'}"
      ]
     },
     "execution_count": 42,
     "metadata": {},
     "output_type": "execute_result"
    }
   ],
   "source": [
    "response_dict = propmt_pipeline.process_response(response)\n",
    "response_dict\n",
    "#Process our response to convert to response dict"
   ]
  },
  {
   "cell_type": "code",
   "execution_count": 37,
   "metadata": {},
   "outputs": [
    {
     "name": "stderr",
     "output_type": "stream",
     "text": [
      "2022-09-14 19:02:38,901:logger:Tokens converted to Dict\n"
     ]
    },
    {
     "data": {
      "text/plain": [
       "{'EXPERIENCE': '10+ years,5+ years',\n",
       " 'SKILLS': 'software engineering,technical management,release engineering,tools engineering,DevOps',\n",
       " 'DIPLOMA': 'BS/MS',\n",
       " 'DIPLOMA_MAJOR': 'Computer Science'}"
      ]
     },
     "execution_count": 37,
     "metadata": {},
     "output_type": "execute_result"
    }
   ],
   "source": [
    "tokens = propmt_pipeline.get_tokens(train_data[1])\n",
    "tokens"
   ]
  },
  {
   "cell_type": "code",
   "execution_count": 43,
   "metadata": {},
   "outputs": [
    {
     "data": {
      "text/plain": [
       "{'EXPERIENCE': 0.972972972972973,\n",
       " 'SKILLS': 0.9942196531791907,\n",
       " 'DIPLOMA': 0.9090909090909091,\n",
       " 'DIPLOMA_MAJOR': 0.9696969696969697}"
      ]
     },
     "execution_count": 43,
     "metadata": {},
     "output_type": "execute_result"
    }
   ],
   "source": [
    "from difflib import SequenceMatcher\n",
    "prediction_similarity = {}\n",
    "for k,v in tokens.items():\n",
    "    if k in response_dict.keys():\n",
    "        prediction_similarity[k] = SequenceMatcher(None, v, response_dict[k]).ratio()\n",
    "    else:\n",
    "        prediction_similarity[k] = 0.0\n",
    "prediction_similarity\n",
    "\n",
    "#Get similarity dict"
   ]
  },
  {
   "cell_type": "markdown",
   "metadata": {},
   "source": [
    "`We can see that the response from the model was effective but we give it a data that it had already seen`"
   ]
  },
  {
   "cell_type": "code",
   "execution_count": 44,
   "metadata": {},
   "outputs": [
    {
     "data": {
      "image/png": "[encoded data removed]",
      "text/plain": [
       "<Figure size 432x288 with 1 Axes>"
      ]
     },
     "metadata": {
      "needs_background": "light"
     },
     "output_type": "display_data"
    },
    {
     "name": "stderr",
     "output_type": "stream",
     "text": [
      "2022-09-14 19:13:09,549:logger:Plotted result\n"
     ]
    }
   ],
   "source": [
    "propmt_pipeline.plot_result(prediction_similarity)"
   ]
  },
  {
   "cell_type": "markdown",
   "metadata": {},
   "source": [
    "`Let's try by giving it a data that it hasn't already seen`"
   ]
  },
  {
   "cell_type": "code",
   "execution_count": 75,
   "metadata": {},
   "outputs": [
    {
     "data": {
      "text/plain": [
       "\"Job Description: Bachelor's degree in Mechanical Engineering or Physical Science 3+ years track record of developing or specifying fiber optic cables and connector related products Knowledge of fiber optic component, cabling, and interconnect products, technologies, and standards Experience in statistical data analysis Experience with product life cycle management (PLM) process Experience providing solutions to problems and meeting deadlines Experience engaging stakeholders PREFERRED Advanced degree Experience using a software tool for statistical data analysis such as JMP Experience using Agile as product life-cycle management tool Data center or other mission critical development experience\\nDIPLOMA: Bachelor\\nDIPLOMA_MAJOR: Mechanical Engineering,Physical Science\\nEXPERIENCE: 3+ years\\nSKILLS: developing,fiber optic cables,connector related products\\n\\n--\\nJob Description: 10+ years of software engineering work experience. Technical experience in release automation engineering, CI/CD or related roles. Experience building and leading a software organization through product design, delivery and commercialization of consumer electronics devices. Experience recruiting and managing technical teams, including performance management. BS/MS in Computer Science. Experience in leading timeline, multi-partner initiatives. Organizational communication and coordination experience. PREFERRED 5+ years of experience with hands-on technical management, release engineering, tools engineering, DevOps, or related area.\\nEXPERIENCE: 10+ years,5+ years\\nSKILLS: software engineering,technical management,release engineering,tools engineering,DevOps\\nDIPLOMA: BS/MS\\nDIPLOMA_MAJOR: Computer Science\\n\\n--\\n\\n\\nJob Description: Currently holding a faculty, industry, or government researcher position.\\nPh.D. and publications in machine learning, AI, computer science, statistics, applied mathematics, data science, or related technical fields.\\nExperience leading a team in solving analytical problems using quantitative approaches.\\nExperience manipulating and analyzing data from different sources.\\nExperience in theoretical and empirical research and for answering questions with research.\\nAbility to communicate research for public audiences of peers.\\nKnowledge in a programming language.\\nAbility to obtain and maintain work authorization in the country of employment in 2018.\\n\\nPREFERRED \\n1+ year(s) of work experience in a university, industry, or government lab(s), in a role with primary emphasis on AI research.\\nExperience driving original scholarship in collaboration with a team.\\nFirst-author publications at peer-reviewed AI conferences (e.g. NIPS, CVPR, ICML, ICLR, ICCV, and ACL).\\nExperience in developing and debugging in C/C++, Python, C# and/or Java.\""
      ]
     },
     "execution_count": 75,
     "metadata": {},
     "output_type": "execute_result"
    }
   ],
   "source": [
    "prompt = val\n",
    "prompt += f\"\\n\\nJob Description: {test_data[0]['document'].strip()}\"\n",
    "prompt"
   ]
  },
  {
   "cell_type": "code",
   "execution_count": 78,
   "metadata": {},
   "outputs": [
    {
     "name": "stderr",
     "output_type": "stream",
     "text": [
      "2022-09-14 20:11:31,690:logger:Rquest successful\n"
     ]
    },
    {
     "data": {
      "text/plain": [
       "'\\nExperience in developing and debugging in a Linux environment.\\nExperience in developing and debugging in a Windows environment.\\nExperience in developing and debugging in a Mac environment.\\nExperience in developing and debugging in a mobile environment (e.g. iOS, Android).\\n\\n--'"
      ]
     },
     "execution_count": 78,
     "metadata": {},
     "output_type": "execute_result"
    }
   ],
   "source": [
    "response = propmt_pipeline.send_request_to_cohere(co, prompt)\n",
    "response"
   ]
  },
  {
   "cell_type": "code",
   "execution_count": 79,
   "metadata": {},
   "outputs": [
    {
     "name": "stderr",
     "output_type": "stream",
     "text": [
      "2022-09-14 20:11:54,530:logger:Rquest successful\n"
     ]
    },
    {
     "data": {
      "text/plain": [
       "'\\n\\n--'"
      ]
     },
     "execution_count": 79,
     "metadata": {},
     "output_type": "execute_result"
    }
   ],
   "source": [
    "response = propmt_pipeline.send_request_to_cohere(co, prompt)\n",
    "response"
   ]
  },
  {
   "cell_type": "code",
   "execution_count": 80,
   "metadata": {},
   "outputs": [
    {
     "name": "stderr",
     "output_type": "stream",
     "text": [
      "2022-09-14 20:12:13,761:logger:Rquest successful\n"
     ]
    },
    {
     "data": {
      "text/plain": [
       "'\\nExperience in big data analytics, machine learning, natural language processing, and/or computer vision.\\n\\n--'"
      ]
     },
     "execution_count": 80,
     "metadata": {},
     "output_type": "execute_result"
    }
   ],
   "source": [
    "response = propmt_pipeline.send_request_to_cohere(co, prompt)\n",
    "response"
   ]
  },
  {
   "cell_type": "markdown",
   "metadata": {},
   "source": [
    "`We can see that it sometimes responds and sometimes not so we can not proceed with this prompt approach`"
   ]
  },
  {
   "cell_type": "markdown",
   "metadata": {},
   "source": [
    "`We will use tuned models based on out extracted entities in the below example`"
   ]
  },
  {
   "cell_type": "code",
   "execution_count": 69,
   "metadata": {},
   "outputs": [
    {
     "name": "stderr",
     "output_type": "stream",
     "text": [
      "2022-09-14 19:29:49,232:logger:Values extracted.\n"
     ]
    }
   ],
   "source": [
    "my_vals = propmt_pipeline.extract_values(train_data)\n",
    "with open(\"../data/job_description_train_fine_tune.txt\", 'w')as f:\n",
    "    f.write(my_vals)\n",
    "#We Extract all the entities including job description text and we will feed this in to our model four fine tuning in the cohere website"
   ]
  },
  {
   "cell_type": "code",
   "execution_count": 70,
   "metadata": {},
   "outputs": [
    {
     "name": "stderr",
     "output_type": "stream",
     "text": [
      "2022-09-14 19:30:22,841:logger:Values extracted.\n"
     ]
    }
   ],
   "source": [
    "my_vals = propmt_pipeline.extract_values(test_data)\n",
    "with open(\"../data/job_description_test_fine_tune.txt\", 'w')as f:\n",
    "    f.write(my_vals)"
   ]
  },
  {
   "cell_type": "markdown",
   "metadata": {},
   "source": [
    "#### After training on cohere dashboard we will give it a try"
   ]
  },
  {
   "cell_type": "code",
   "execution_count": 87,
   "metadata": {},
   "outputs": [
    {
     "name": "stderr",
     "output_type": "stream",
     "text": [
      "2022-09-14 20:27:08,147:logger:Values extracted.\n"
     ]
    }
   ],
   "source": [
    "val = propmt_pipeline.extract_values(train_data[:5])"
   ]
  },
  {
   "cell_type": "code",
   "execution_count": 94,
   "metadata": {},
   "outputs": [
    {
     "data": {
      "text/plain": [
       "\"Job Description: Bachelor's degree in Mechanical Engineering or Physical Science 3+ years track record of developing or specifying fiber optic cables and connector related products Knowledge of fiber optic component, cabling, and interconnect products, technologies, and standards Experience in statistical data analysis Experience with product life cycle management (PLM) process Experience providing solutions to problems and meeting deadlines Experience engaging stakeholders PREFERRED Advanced degree Experience using a software tool for statistical data analysis such as JMP Experience using Agile as product life-cycle management tool Data center or other mission critical development experience\\nDIPLOMA: Bachelor\\nDIPLOMA_MAJOR: Mechanical Engineering,Physical Science\\nEXPERIENCE: 3+ years\\nSKILLS: developing,fiber optic cables,connector related products\\n\\n--\\nJob Description: 10+ years of software engineering work experience. Technical experience in release automation engineering, CI/CD or related roles. Experience building and leading a software organization through product design, delivery and commercialization of consumer electronics devices. Experience recruiting and managing technical teams, including performance management. BS/MS in Computer Science. Experience in leading timeline, multi-partner initiatives. Organizational communication and coordination experience. PREFERRED 5+ years of experience with hands-on technical management, release engineering, tools engineering, DevOps, or related area.\\nEXPERIENCE: 10+ years,5+ years\\nSKILLS: software engineering,technical management,release engineering,tools engineering,DevOps\\nDIPLOMA: BS/MS\\nDIPLOMA_MAJOR: Computer Science\\n\\n--\\nJob Description: 3+ years Swift & Objective-C and experience with iOS internals Experience building an entire app from scratch and ideally a portfolio of apps featured in the App Store Someone who knows every trick in the book on UI transitions, network communication and memory/battery efficiency Strong UI/design skill experience is a plus\\nEXPERIENCE: 3+ years\\nSKILLS: Swift & Objective-C\\n\\n--\\nJob Description: 8+ years experience in software engineering leadership 5+ years people management experience including managing leaders and managing remotely across regions Strategic thinker with proven track record of transforming operations to provide customer experience through innovation and improvement Track record of working with VP, C-level Executives Experience deploying operational support models across enterprise organizations Communication/presentations experience Experience working with all levels of management internally and externally Experience meeting objectives in an entrepreneurial environment Collaboration and relationship-building experience BA/BS degree or higher\\nEXPERIENCE: 8+ years,5+ years\\nSKILLS: software engineering,people management,managing leaders\\n\\n--\\nJob Description: BS degree in Computer Science or related field. 7+ years C++ experience, including C++11 features and principles. 5+ years experience creating software for real-time environments such as games or robotics. 2+ years experience managing software engineers. Proven track record of software development, including shipping one or more products on large code bases that span platforms and tools. Problem solving and optimization experience. Communication experience and demonstrated experience working across disciplines and teams to drive solutions. PREFERRED Hands-on experience with 3D computer vision algorithms including Calibration, SLAM, Reconstruction, Mapping, Localization, Sensor Fusion, State Estimation and Image Processing Experience with designing (products or open-source/git software) of inertial/optical sensing devices Publication in leading workshops or conferences such as CVPR, ECCV, ICCV, SIGGRAPH, ICCP, RSS, ICRA, etc.\\nDIPLOMA: BS\\nDIPLOMA_MAJOR: Computer Science\\nEXPERIENCE: 7+ years,5+ years,2+ years\\nSKILLS: C++,C++11,creating software for real-time environments,games,robotics,managing software engineers\\n\\n--\\n\\n\\nJob Description: BA/BS\\n5+ years of program or project management experience\\n2+ years of technical project/program management experience\\nTrack record of operating independently\\nExperience understanding user needs, gathering requirements, and defining scope\\nCommunication experience interacting with a variety of audiences from engineers, to vendors, to research leaders\\nTrack record of building cross-functional relationships\\n\\nPREFERRED \\nExperience working with UX Research and/or UX Design\""
      ]
     },
     "execution_count": 94,
     "metadata": {},
     "output_type": "execute_result"
    }
   ],
   "source": [
    "prompt = val\n",
    "prompt += f\"\\n\\nJob Description: {test_data[2]['document'].strip()}\"\n",
    "prompt"
   ]
  },
  {
   "cell_type": "code",
   "execution_count": 91,
   "metadata": {},
   "outputs": [
    {
     "name": "stdout",
     "output_type": "stream",
     "text": [
      "Prediction: \n",
      "Experience in the use of large-scale infrastructure such as cluster, storage, networking, and/or compute.\n",
      "Experience in statistical analysis of data from different sources.\n",
      "Experience in developing and debugging in C/C++, Python, C# and/or Java.\n",
      "\n",
      "DIPLOMA: Ph.D.\n",
      "DIPLOMA_MAJOR: Computer Science\n",
      "EXPERIENCE: 1+ year(s)\n",
      "SKILLS: AI,computer science,statistics,applied mathematics,data science,technical research,public outreach\n",
      "\n",
      "--\n"
     ]
    }
   ],
   "source": [
    "response = co.generate( \n",
    "model='20e04709-7aed-43f0-9003-c2b84750567d-ft', \n",
    "prompt=prompt,\n",
    "max_tokens=400, \n",
    "temperature=0.5, \n",
    "k=0, \n",
    "p=1, \n",
    "frequency_penalty=0, \n",
    "presence_penalty=0, \n",
    "stop_sequences=[\"--\"], \n",
    "return_likelihoods='NONE') \n",
    "print('Prediction: {}'.format(response.generations[0].text))"
   ]
  },
  {
   "cell_type": "code",
   "execution_count": 95,
   "metadata": {},
   "outputs": [
    {
     "name": "stderr",
     "output_type": "stream",
     "text": [
      "2022-09-14 20:35:02,293:logger:Values extracted.\n"
     ]
    }
   ],
   "source": [
    "val = propmt_pipeline.extract_values(train_data[:5])"
   ]
  },
  {
   "cell_type": "code",
   "execution_count": 100,
   "metadata": {},
   "outputs": [
    {
     "data": {
      "text/plain": [
       "'Job Description: BA/BS\\n5+ years of program or project management experience\\n2+ years of technical project/program management experience\\nTrack record of operating independently\\nExperience understanding user needs, gathering requirements, and defining scope\\nCommunication experience interacting with a variety of audiences from engineers, to vendors, to research leaders\\nTrack record of building cross-functional relationships\\n\\nPREFERRED \\nExperience working with UX Research and/or UX Design --'"
      ]
     },
     "execution_count": 100,
     "metadata": {},
     "output_type": "execute_result"
    }
   ],
   "source": [
    "# prompt = val\n",
    "prompt = f\"Job Description: {test_data[2]['document'].strip()} --\"\n",
    "prompt"
   ]
  },
  {
   "cell_type": "code",
   "execution_count": 101,
   "metadata": {},
   "outputs": [
    {
     "name": "stdout",
     "output_type": "stream",
     "text": [
      "Prediction:  especially in a consumer-facing product\n",
      "Experience managing a team of UX Researchers and/or UX Designers\n",
      "Experience managing a team of engineers\n",
      "Experience managing a team of product managers\n",
      "Experience working in a startup environment\n",
      "Experience with Agile methodologies\n",
      "Experience with user research tools and techniques\n",
      "\n",
      "DIPLOMA \n",
      "5+ years of program or project management experience\n",
      "2+ years of technical project/program management experience\n",
      "Track record of operating independently\n",
      "Experience understanding user needs, gathering requirements, and defining scope\n",
      "Communication experience interacting with a variety of audiences from engineers, to vendors, to research leaders\n",
      "Track record of building cross-functional relationships\n",
      "\n",
      "PREFERRED \n",
      "Experience working with UX Research and/or UX Design --\n"
     ]
    }
   ],
   "source": [
    "response = co.generate( \n",
    "model='e1819ef5-937f-4a18-902d-680daee4e0fa-ft', \n",
    "prompt=prompt,\n",
    "max_tokens=400, \n",
    "temperature=0.5, \n",
    "k=0, \n",
    "p=1, \n",
    "frequency_penalty=0, \n",
    "presence_penalty=0, \n",
    "stop_sequences=[\"--\"], \n",
    "return_likelihoods='NONE') \n",
    "print('Prediction: {}'.format(response.generations[0].text))\n",
    "#Try an other fine tuned model, tuned with a larger model(medium), the previous one was small"
   ]
  },
  {
   "cell_type": "markdown",
   "metadata": {},
   "source": [
    "`As we can see our new fine tuned model is performing well. so we will modify our send_request_to_cohere to accept model name`"
   ]
  },
  {
   "cell_type": "code",
   "execution_count": null,
   "metadata": {},
   "outputs": [],
   "source": [
    "\n",
    "# response = co.generate( \n",
    "#   model='20e04709-7aed-43f0-9003-c2b84750567d-ft', \n",
    "#   prompt='Job Description: Bachelor\\'s degree in Mechanical Engineering or Physical Science 3+ years track record of developing or specifying fiber optic cables and connector related products Knowledge of fiber optic component, cabling, and interconnect products, technologies, and standards Experience in statistical data analysis Experience with product life cycle management (PLM) process Experience providing solutions to problems and meeting deadlines Experience engaging stakeholders PREFERRED Advanced degree Experience using a software tool for statistical data analysis such as JMP Experience using Agile as product life-cycle management tool Data center or other mission critical development experience\\n\\nDIPLOMA: Bachelor\\nDIPLOMA_MAJOR: Mechanical Engineering, Physical Science\\nEXPERIENCE: 3+ years\\nSKILLS: developing, fiber optic cables, connector related products\\n--\\n', \n",
    "#   max_tokens=400, \n",
    "#   temperature=0.5, \n",
    "#   k=0, \n",
    "#   p=1, \n",
    "#   frequency_penalty=0, \n",
    "#   presence_penalty=0, \n",
    "#   stop_sequences=[\"--\"], \n",
    "#   return_likelihoods='NONE') \n",
    "# print('Prediction: {}'.format(response.generations[0].text))"
   ]
  },
  {
   "cell_type": "code",
   "execution_count": 103,
   "metadata": {},
   "outputs": [
    {
     "name": "stdout",
     "output_type": "stream",
     "text": [
      "Prediction:  especially in a healthcare environment\n",
      "\n",
      "\n",
      "\n",
      "\n",
      "DIPLOMA/CERTIFICATION \n",
      "BS/BA/MS\n",
      "\n",
      "EXPERIENCE \n",
      "5+ years of program or project management experience\n",
      "2+ years of technical project/program management experience\n",
      "Track record of operating independently\n",
      "Experience understanding user needs, gathering requirements, and defining scope\n",
      "Communication experience interacting with a variety of audiences from engineers, to vendors, to research leaders\n",
      "Track record of building cross-functional relationships\n",
      "\n",
      "PREFERRED \n",
      "Experience working with UX Research and/or UX Design --\n"
     ]
    }
   ],
   "source": [
    "prompt = f\"Job Description: {test_data[2]['document'].strip()} --\"\n",
    "response = co.generate( \n",
    "    model='e1819ef5-937f-4a18-902d-680daee4e0fa-ft', \n",
    "    prompt=prompt,\n",
    "    max_tokens=400, \n",
    "    temperature=0.5, \n",
    "    k=0, \n",
    "    p=1, \n",
    "    frequency_penalty=0, \n",
    "    presence_penalty=0, \n",
    "    stop_sequences=[\"--\"], \n",
    "    return_likelihoods='NONE') \n",
    "print('Prediction: {}'.format(response.generations[0].text))"
   ]
  },
  {
   "cell_type": "code",
   "execution_count": 106,
   "metadata": {},
   "outputs": [
    {
     "name": "stdout",
     "output_type": "stream",
     "text": [
      "Prediction: \n",
      "Experience with Agile methodologies\n",
      "Experience working with agile scrum teams\n",
      "Experience working with technical teams\n",
      "Experience working with UX Research and/or UX Design\n",
      "Experience with Agile methodologies\n",
      "Experience working with agile scrum teams\n",
      "Experience working with technical teams\n",
      "\n",
      "DIPLOMA \n",
      "BS/BA\n",
      "\n",
      "\n",
      "\n",
      "\n",
      "\n",
      "\n",
      "\n",
      "\n",
      "\n",
      "\n",
      "\n",
      "\n",
      "\n",
      "\n",
      "\n",
      "\n",
      "\n",
      "\n",
      "\n",
      "\n",
      "\n",
      "\n",
      "\n",
      "\n",
      "\n",
      "\n",
      "\n",
      "\n",
      "\n",
      "\n",
      "\n",
      "\n",
      "\n",
      "\n",
      "\n",
      "\n",
      "\n",
      "\n",
      "\n",
      "\n",
      "\n",
      "\n",
      "\n",
      "\n",
      "\n",
      "\n",
      "\n",
      "\n",
      "\n",
      "\n",
      "\n",
      "\n",
      "\n",
      "\n",
      "\n",
      "\n",
      "\n",
      "\n",
      "\n",
      "\n",
      "\n",
      "\n",
      "\n",
      "\n",
      "\n",
      "\n",
      "\n",
      "\n",
      "\n",
      "\n",
      "\n",
      "\n",
      "\n",
      "\n",
      "\n",
      "\n",
      "\n",
      "\n",
      "\n",
      "\n",
      "\n",
      "\n",
      "\n",
      "\n",
      "\n",
      "\n",
      "\n",
      "\n",
      "\n",
      "\n",
      "\n",
      "\n",
      "\n",
      "\n",
      "\n",
      "\n",
      "\n",
      "\n",
      "\n",
      "\n",
      "\n",
      "\n",
      "\n",
      "\n",
      "\n",
      "\n",
      "\n",
      "\n",
      "\n",
      "\n",
      "\n",
      "\n",
      "\n",
      "\n",
      "\n",
      "\n",
      "\n",
      "\n",
      "\n",
      "\n",
      "\n",
      "\n",
      "\n",
      "\n",
      "\n",
      "\n",
      "\n",
      "\n",
      "\n",
      "\n",
      "\n",
      "\n",
      "\n",
      "\n",
      "\n",
      "\n",
      "\n",
      "\n",
      "\n",
      "\n",
      "\n",
      "\n",
      "\n",
      "\n",
      "\n",
      "\n",
      "\n",
      "\n",
      "\n",
      "\n",
      "\n",
      "\n",
      "\n",
      "\n",
      "\n",
      "\n",
      "\n",
      "\n",
      "\n",
      "\n",
      "\n",
      "\n",
      "\n",
      "\n",
      "\n",
      "\n",
      "\n",
      "\n",
      "\n",
      "\n",
      "\n",
      "\n",
      "\n",
      "\n",
      "\n",
      "\n",
      "\n",
      "\n",
      "\n",
      "\n",
      "\n",
      "\n",
      "\n",
      "\n",
      "\n",
      "\n",
      "\n",
      "\n",
      "\n",
      "\n",
      "\n",
      "\n",
      "\n",
      "\n",
      "\n",
      "\n",
      "\n",
      "\n",
      "\n",
      "\n",
      "\n",
      "\n",
      "\n",
      "\n",
      "\n",
      "\n",
      "\n",
      "\n",
      "\n",
      "\n",
      "\n",
      "\n",
      "\n",
      "\n",
      "\n",
      "\n",
      "\n",
      "\n",
      "\n",
      "\n",
      "\n",
      "\n",
      "\n",
      "\n",
      "\n",
      "\n",
      "\n",
      "\n",
      "\n",
      "\n",
      "\n",
      "\n",
      "\n",
      "\n",
      "\n",
      "\n",
      "\n",
      "\n",
      "\n",
      "\n",
      "\n",
      "\n",
      "\n",
      "\n",
      "\n",
      "\n",
      "\n",
      "\n",
      "\n",
      "\n",
      "\n",
      "\n",
      "\n",
      "\n",
      "\n",
      "\n",
      "\n",
      "\n",
      "\n",
      "\n",
      "\n",
      "\n",
      "\n",
      "\n",
      "\n",
      "\n",
      "\n",
      "\n",
      "\n",
      "\n",
      "\n",
      "\n",
      "\n",
      "\n",
      "\n",
      "\n",
      "\n",
      "\n",
      "\n",
      "\n",
      "\n",
      "\n",
      "\n",
      "\n",
      "\n",
      "\n",
      "\n",
      "\n",
      "\n",
      "\n",
      "\n",
      "\n",
      "\n",
      "\n",
      "\n",
      "\n",
      "\n",
      "\n",
      "\n",
      "\n",
      "\n",
      "\n",
      "\n",
      "\n",
      "\n",
      "\n",
      "\n",
      "\n",
      "\n",
      "\n",
      "\n",
      "\n",
      "\n",
      "\n",
      "\n",
      "\n",
      "\n",
      "\n",
      "\n",
      "\n",
      "\n",
      "\n",
      "\n",
      "\n",
      "\n",
      "\n",
      "\n",
      "\n",
      "\n",
      "\n",
      "\n",
      "\n",
      "\n",
      "\n",
      "\n",
      "\n",
      "\n",
      "\n",
      "\n"
     ]
    }
   ],
   "source": [
    "#544c8386-258a-4615-8fae-ce64d4255556-ft\n",
    "\n",
    "prompt = f\"Job Description: {test_data[2]['document'].strip()}\"\n",
    "response = co.generate( \n",
    "    model='544c8386-258a-4615-8fae-ce64d4255556-ft', \n",
    "    prompt=prompt,\n",
    "    max_tokens=400, \n",
    "    temperature=0.5, \n",
    "    k=0, \n",
    "    p=1, \n",
    "    frequency_penalty=0, \n",
    "    presence_penalty=0, \n",
    "    stop_sequences=[\"--\"], \n",
    "    return_likelihoods='NONE') \n",
    "print('Prediction: {}'.format(response.generations[0].text))"
   ]
  },
  {
   "cell_type": "code",
   "execution_count": null,
   "metadata": {},
   "outputs": [],
   "source": []
  }
 ],
 "metadata": {
  "kernelspec": {
   "display_name": "Python 3.9.12 64-bit ('anaconda3')",
   "language": "python",
   "name": "python3"
  },
  "language_info": {
   "codemirror_mode": {
    "name": "ipython",
    "version": 3
   },
   "file_extension": ".py",
   "mimetype": "text/x-python",
   "name": "python",
   "nbconvert_exporter": "python",
   "pygments_lexer": "ipython3",
   "version": "3.9.12"
  },
  "orig_nbformat": 4,
  "vscode": {
   "interpreter": {
    "hash": "d544f67e9aa83adbd02c37f60b9b691fd714bd2f11a4e3320930970c6f737269"
   }
  }
 },
 "nbformat": 4,
 "nbformat_minor": 2
}
