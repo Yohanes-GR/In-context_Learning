{
 "cells": [
  {
   "cell_type": "markdown",
   "metadata": {},
   "source": [
    "#### IMPORT MODULES"
   ]
  },
  {
   "cell_type": "code",
   "execution_count": 8,
   "metadata": {},
   "outputs": [],
   "source": [
    "import sys, os\n",
    "sys.path.append(os.path.abspath(os.path.join('../scripts')))\n",
    "from read_write_util import ReadWriteUtil\n",
    "from data_cleaning_pipeline import DataCleaningPipeline"
   ]
  },
  {
   "cell_type": "code",
   "execution_count": 10,
   "metadata": {},
   "outputs": [
    {
     "name": "stderr",
     "output_type": "stream",
     "text": [
      "unknown Git revision 'jdtrain_v1'\n"
     ]
    },
    {
     "ename": "IndexError",
     "evalue": "list index out of range",
     "output_type": "error",
     "traceback": [
      "\u001b[1;31m---------------------------------------------------------------------------\u001b[0m",
      "\u001b[1;31mIndexError\u001b[0m                                Traceback (most recent call last)",
      "Input \u001b[1;32mIn [10]\u001b[0m, in \u001b[0;36m<cell line: 3>\u001b[1;34m()\u001b[0m\n\u001b[0;32m      1\u001b[0m reader \u001b[38;5;241m=\u001b[39m ReadWriteUtil()\n\u001b[0;32m      2\u001b[0m data \u001b[38;5;241m=\u001b[39m reader\u001b[38;5;241m.\u001b[39mdvc_get_data(\u001b[38;5;124m'\u001b[39m\u001b[38;5;124m../data/job_description_train.json\u001b[39m\u001b[38;5;124m'\u001b[39m, \u001b[38;5;124m'\u001b[39m\u001b[38;5;124mjdtrain_v1\u001b[39m\u001b[38;5;124m'\u001b[39m)\n\u001b[1;32m----> 3\u001b[0m \u001b[43mdata\u001b[49m\u001b[43m[\u001b[49m\u001b[38;5;241;43m0\u001b[39;49m\u001b[43m]\u001b[49m\n",
      "\u001b[1;31mIndexError\u001b[0m: list index out of range"
     ]
    }
   ],
   "source": [
    "reader = ReadWriteUtil()\n",
    "data = reader.dvc_get_data('../data/job_description_train.json', 'jdtrain_v1')\n",
    "data[0]"
   ]
  },
  {
   "cell_type": "code",
   "execution_count": 5,
   "metadata": {},
   "outputs": [
    {
     "name": "stderr",
     "output_type": "stream",
     "text": [
      "unknown Git revision 'jdtest_v1'\n"
     ]
    },
    {
     "ename": "IndexError",
     "evalue": "list index out of range",
     "output_type": "error",
     "traceback": [
      "\u001b[1;31m---------------------------------------------------------------------------\u001b[0m",
      "\u001b[1;31mIndexError\u001b[0m                                Traceback (most recent call last)",
      "Input \u001b[1;32mIn [5]\u001b[0m, in \u001b[0;36m<cell line: 2>\u001b[1;34m()\u001b[0m\n\u001b[0;32m      1\u001b[0m test_data \u001b[38;5;241m=\u001b[39m reader\u001b[38;5;241m.\u001b[39mdvc_get_data(\u001b[38;5;124m'\u001b[39m\u001b[38;5;124m../data/job_description_test.json\u001b[39m\u001b[38;5;124m'\u001b[39m, \u001b[38;5;124m'\u001b[39m\u001b[38;5;124mjdtest_v1\u001b[39m\u001b[38;5;124m'\u001b[39m)\n\u001b[1;32m----> 2\u001b[0m \u001b[43mtest_data\u001b[49m\u001b[43m[\u001b[49m\u001b[38;5;241;43m0\u001b[39;49m\u001b[43m]\u001b[49m\n",
      "\u001b[1;31mIndexError\u001b[0m: list index out of range"
     ]
    }
   ],
   "source": [
    "test_data = reader.dvc_get_data('../data/job_description_test.json', 'jdtest_v1')\n",
    "test_data[0]"
   ]
  },
  {
   "cell_type": "markdown",
   "metadata": {},
   "source": [
    "#### Clean Train JSON"
   ]
  },
  {
   "cell_type": "code",
   "execution_count": 6,
   "metadata": {},
   "outputs": [],
   "source": [
    "clean_pipeline = DataCleaningPipeline()\n",
    "#Initialize our cleaning pipeline"
   ]
  },
  {
   "cell_type": "markdown",
   "metadata": {},
   "source": [
    "#### Check for irrelevant key:value pairs"
   ]
  },
  {
   "cell_type": "code",
   "execution_count": 7,
   "metadata": {},
   "outputs": [
    {
     "ename": "IndexError",
     "evalue": "list index out of range",
     "output_type": "error",
     "traceback": [
      "\u001b[1;31m---------------------------------------------------------------------------\u001b[0m",
      "\u001b[1;31mIndexError\u001b[0m                                Traceback (most recent call last)",
      "Input \u001b[1;32mIn [7]\u001b[0m, in \u001b[0;36m<cell line: 1>\u001b[1;34m()\u001b[0m\n\u001b[1;32m----> 1\u001b[0m \u001b[43mdata\u001b[49m\u001b[43m[\u001b[49m\u001b[38;5;241;43m0\u001b[39;49m\u001b[43m]\u001b[49m[\u001b[38;5;124m'\u001b[39m\u001b[38;5;124mtokens\u001b[39m\u001b[38;5;124m'\u001b[39m][:\u001b[38;5;241m2\u001b[39m]\n",
      "\u001b[1;31mIndexError\u001b[0m: list index out of range"
     ]
    }
   ],
   "source": [
    "data[0]['tokens'][:2]\n",
    "#As we can see the key:value pairs:\n",
    "    # 'start': 0,\n",
    "    # 'end': 8,\n",
    "    # 'token_start': 0,\n",
    "    # 'token_end': 0,\n",
    "# are irrelevant for our use case, we only focus on the key:value pairs:\n",
    "    # 'text': 'Bachelor',\n",
    "    # 'entityLabel': 'DIPLOMA'\n",
    "# So in our cleaning pipline we will create a function to remove the above irrelevant key:value pairs"
   ]
  },
  {
   "cell_type": "code",
   "execution_count": 6,
   "metadata": {},
   "outputs": [
    {
     "data": {
      "text/plain": [
       "[{'child': 4, 'head': 0, 'relationLabel': 'DEGREE_IN'},\n",
       " {'child': 7, 'head': 0, 'relationLabel': 'DEGREE_IN'},\n",
       " {'child': 15, 'head': 9, 'relationLabel': 'EXPERIENCE_IN'},\n",
       " {'child': 18, 'head': 9, 'relationLabel': 'EXPERIENCE_IN'},\n",
       " {'child': 22, 'head': 9, 'relationLabel': 'EXPERIENCE_IN'}]"
      ]
     },
     "execution_count": 6,
     "metadata": {},
     "output_type": "execute_result"
    }
   ],
   "source": [
    "data[0]['relations']\n",
    "#It seems we have another irrelevant key:value pair in our job description data\n",
    "# We will remove it using the function we create to remove the irrelevant columns"
   ]
  },
  {
   "cell_type": "code",
   "execution_count": 7,
   "metadata": {},
   "outputs": [
    {
     "name": "stderr",
     "output_type": "stream",
     "text": [
      "2022-09-13 19:24:29,003:logger:Cleaned Irrelevant key:value pairs in tokens.\n"
     ]
    },
    {
     "data": {
      "text/plain": [
       "{'document': \"Bachelor's degree in Mechanical Engineering or Physical Science 3+ years track record of developing or specifying fiber optic cables and connector related products Knowledge of fiber optic component, cabling, and interconnect products, technologies, and standards Experience in statistical data analysis Experience with product life cycle management (PLM) process Experience providing solutions to problems and meeting deadlines Experience engaging stakeholders PREFERRED Advanced degree Experience using a software tool for statistical data analysis such as JMP Experience using Agile as product life-cycle management tool Data center or other mission critical development experience\",\n",
       " 'tokens': [{'text': 'Bachelor', 'entityLabel': 'DIPLOMA'},\n",
       "  {'text': 'Mechanical Engineering', 'entityLabel': 'DIPLOMA_MAJOR'},\n",
       "  {'text': 'Physical Science', 'entityLabel': 'DIPLOMA_MAJOR'},\n",
       "  {'text': '3+ years', 'entityLabel': 'EXPERIENCE'},\n",
       "  {'text': 'developing', 'entityLabel': 'SKILLS'},\n",
       "  {'text': 'fiber optic cables', 'entityLabel': 'SKILLS'},\n",
       "  {'text': 'connector related products', 'entityLabel': 'SKILLS'}]}"
      ]
     },
     "execution_count": 7,
     "metadata": {},
     "output_type": "execute_result"
    }
   ],
   "source": [
    "clean_pipeline.runpipeline(data, irrelevant_data_keys=['relations'], irrelevant_token_keys=['start', 'end', 'token_start', 'token_end'])\n",
    "data[0]\n",
    "#We pass our data to our pipeline in order to remove unwanted key:value pairs"
   ]
  },
  {
   "cell_type": "markdown",
   "metadata": {},
   "source": [
    "#### Save and version data accordingly"
   ]
  },
  {
   "cell_type": "code",
   "execution_count": 8,
   "metadata": {},
   "outputs": [],
   "source": [
    "import json\n",
    "\n",
    "with open(\"../data/job_description_train_cleaned.json\", 'w') as f:\n",
    "    f.write(json.dumps(data, indent=2))"
   ]
  },
  {
   "cell_type": "markdown",
   "metadata": {},
   "source": [
    "#### Verify versioned data"
   ]
  },
  {
   "cell_type": "code",
   "execution_count": 9,
   "metadata": {},
   "outputs": [
    {
     "name": "stderr",
     "output_type": "stream",
     "text": [
      "2022-09-13 19:31:33,902:logger:../data/job_description_train_cleaned.json with version jdtrain_v1_cleaned Loaded\n"
     ]
    },
    {
     "data": {
      "text/plain": [
       "{'document': \"Bachelor's degree in Mechanical Engineering or Physical Science 3+ years track record of developing or specifying fiber optic cables and connector related products Knowledge of fiber optic component, cabling, and interconnect products, technologies, and standards Experience in statistical data analysis Experience with product life cycle management (PLM) process Experience providing solutions to problems and meeting deadlines Experience engaging stakeholders PREFERRED Advanced degree Experience using a software tool for statistical data analysis such as JMP Experience using Agile as product life-cycle management tool Data center or other mission critical development experience\",\n",
       " 'tokens': [{'text': 'Bachelor', 'entityLabel': 'DIPLOMA'},\n",
       "  {'text': 'Mechanical Engineering', 'entityLabel': 'DIPLOMA_MAJOR'},\n",
       "  {'text': 'Physical Science', 'entityLabel': 'DIPLOMA_MAJOR'},\n",
       "  {'text': '3+ years', 'entityLabel': 'EXPERIENCE'},\n",
       "  {'text': 'developing', 'entityLabel': 'SKILLS'},\n",
       "  {'text': 'fiber optic cables', 'entityLabel': 'SKILLS'},\n",
       "  {'text': 'connector related products', 'entityLabel': 'SKILLS'}]}"
      ]
     },
     "execution_count": 9,
     "metadata": {},
     "output_type": "execute_result"
    }
   ],
   "source": [
    "cleaned_data = reader.dvc_get_data('../data/job_description_train_cleaned.json', 'jdtrain_v1_cleaned')\n",
    "cleaned_data[0]"
   ]
  },
  {
   "cell_type": "markdown",
   "metadata": {},
   "source": [
    "#### Clean and Version Test File"
   ]
  },
  {
   "cell_type": "code",
   "execution_count": 10,
   "metadata": {},
   "outputs": [
    {
     "name": "stderr",
     "output_type": "stream",
     "text": [
      "2022-09-13 19:34:36,807:logger:Cleaned Irrelevant key:value pairs in tokens.\n"
     ]
    },
    {
     "data": {
      "text/plain": [
       "{'document': '\\nCurrently holding a faculty, industry, or government researcher position.\\nPh.D. and publications in machine learning, AI, computer science, statistics, applied mathematics, data science, or related technical fields.\\nExperience leading a team in solving analytical problems using quantitative approaches.\\nExperience manipulating and analyzing data from different sources.\\nExperience in theoretical and empirical research and for answering questions with research.\\nAbility to communicate research for public audiences of peers.\\nKnowledge in a programming language.\\nAbility to obtain and maintain work authorization in the country of employment in 2018.\\n\\nPREFERRED \\n1+ year(s) of work experience in a university, industry, or government lab(s), in a role with primary emphasis on AI research.\\nExperience driving original scholarship in collaboration with a team.\\nFirst-author publications at peer-reviewed AI conferences (e.g. NIPS, CVPR, ICML, ICLR, ICCV, and ACL).\\nExperience in developing and debugging in C/C++, Python, C# and/or Java.',\n",
       " 'tokens': [{'text': 'Ph.D.', 'entityLabel': 'DIPLOMA'},\n",
       "  {'text': 'machine learning', 'entityLabel': 'DIPLOMA_MAJOR'},\n",
       "  {'text': 'AI', 'entityLabel': 'DIPLOMA_MAJOR'},\n",
       "  {'text': 'computer science', 'entityLabel': 'DIPLOMA_MAJOR'},\n",
       "  {'text': 'statistics', 'entityLabel': 'DIPLOMA_MAJOR'},\n",
       "  {'text': 'applied mathematics', 'entityLabel': 'DIPLOMA_MAJOR'},\n",
       "  {'text': 'data science', 'entityLabel': 'DIPLOMA_MAJOR'},\n",
       "  {'text': '1+ year(s', 'entityLabel': 'EXPERIENCE'},\n",
       "  {'text': 'university', 'entityLabel': 'SKILLS'},\n",
       "  {'text': 'industry', 'entityLabel': 'SKILLS'},\n",
       "  {'text': 'government lab(s)', 'entityLabel': 'SKILLS'},\n",
       "  {'text': 'AI', 'entityLabel': 'SKILLS'}]}"
      ]
     },
     "execution_count": 10,
     "metadata": {},
     "output_type": "execute_result"
    }
   ],
   "source": [
    "clean_pipeline.runpipeline(test_data, irrelevant_data_keys=['relations'], irrelevant_token_keys=['start', 'end', 'token_start', 'token_end'])\n",
    "test_data[0]\n",
    "#Apply the same pipeline to our test json"
   ]
  },
  {
   "cell_type": "markdown",
   "metadata": {},
   "source": [
    "#### Save and version data accordingly"
   ]
  },
  {
   "cell_type": "code",
   "execution_count": 11,
   "metadata": {},
   "outputs": [],
   "source": [
    "with open(\"../data/job_description_test_cleaned.json\", 'w') as f:\n",
    "    f.write(json.dumps(test_data, indent=2))"
   ]
  },
  {
   "cell_type": "code",
   "execution_count": 12,
   "metadata": {},
   "outputs": [
    {
     "name": "stderr",
     "output_type": "stream",
     "text": [
      "2022-09-13 19:37:39,908:logger:../data/job_description_test_cleaned.json with version jdtest_v1_cleaned Loaded\n"
     ]
    },
    {
     "data": {
      "text/plain": [
       "{'document': '\\nCurrently holding a faculty, industry, or government researcher position.\\nPh.D. and publications in machine learning, AI, computer science, statistics, applied mathematics, data science, or related technical fields.\\nExperience leading a team in solving analytical problems using quantitative approaches.\\nExperience manipulating and analyzing data from different sources.\\nExperience in theoretical and empirical research and for answering questions with research.\\nAbility to communicate research for public audiences of peers.\\nKnowledge in a programming language.\\nAbility to obtain and maintain work authorization in the country of employment in 2018.\\n\\nPREFERRED \\n1+ year(s) of work experience in a university, industry, or government lab(s), in a role with primary emphasis on AI research.\\nExperience driving original scholarship in collaboration with a team.\\nFirst-author publications at peer-reviewed AI conferences (e.g. NIPS, CVPR, ICML, ICLR, ICCV, and ACL).\\nExperience in developing and debugging in C/C++, Python, C# and/or Java.',\n",
       " 'tokens': [{'text': 'Ph.D.', 'entityLabel': 'DIPLOMA'},\n",
       "  {'text': 'machine learning', 'entityLabel': 'DIPLOMA_MAJOR'},\n",
       "  {'text': 'AI', 'entityLabel': 'DIPLOMA_MAJOR'},\n",
       "  {'text': 'computer science', 'entityLabel': 'DIPLOMA_MAJOR'},\n",
       "  {'text': 'statistics', 'entityLabel': 'DIPLOMA_MAJOR'},\n",
       "  {'text': 'applied mathematics', 'entityLabel': 'DIPLOMA_MAJOR'},\n",
       "  {'text': 'data science', 'entityLabel': 'DIPLOMA_MAJOR'},\n",
       "  {'text': '1+ year(s', 'entityLabel': 'EXPERIENCE'},\n",
       "  {'text': 'university', 'entityLabel': 'SKILLS'},\n",
       "  {'text': 'industry', 'entityLabel': 'SKILLS'},\n",
       "  {'text': 'government lab(s)', 'entityLabel': 'SKILLS'},\n",
       "  {'text': 'AI', 'entityLabel': 'SKILLS'}]}"
      ]
     },
     "execution_count": 12,
     "metadata": {},
     "output_type": "execute_result"
    }
   ],
   "source": [
    "cleaned_test_data = reader.dvc_get_data('../data/job_description_test_cleaned.json', 'jdtest_v1_cleaned')\n",
    "cleaned_test_data[0]"
   ]
  },
  {
   "cell_type": "code",
   "execution_count": null,
   "metadata": {},
   "outputs": [],
   "source": []
  }
 ],
 "metadata": {
  "kernelspec": {
   "display_name": "Python 3 (ipykernel)",
   "language": "python",
   "name": "python3"
  },
  "language_info": {
   "codemirror_mode": {
    "name": "ipython",
    "version": 3
   },
   "file_extension": ".py",
   "mimetype": "text/x-python",
   "name": "python",
   "nbconvert_exporter": "python",
   "pygments_lexer": "ipython3",
   "version": "3.9.12"
  },
  "vscode": {
   "interpreter": {
    "hash": "66bca563c4c76296b191bb3bb7e4d5f9a7ce2df3aa834d2ca323fb8450d58729"
   }
  }
 },
 "nbformat": 4,
 "nbformat_minor": 2
}
